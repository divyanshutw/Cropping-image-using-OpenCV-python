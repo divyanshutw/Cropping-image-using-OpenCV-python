{
 "cells": [
  {
   "cell_type": "code",
   "execution_count": 2,
   "metadata": {},
   "outputs": [],
   "source": [
    "import cv2\n",
    "import numpy as np\n",
    "import matplotlib.pyplot as plt\n",
    "%matplotlib inline"
   ]
  },
  {
   "cell_type": "code",
   "execution_count": 3,
   "metadata": {},
   "outputs": [],
   "source": [
    "img=cv2.imread(\"write\\\\your\\\\file\\\\path\")\n",
    "#or run below code"
   ]
  },
  {
   "cell_type": "code",
   "execution_count": 4,
   "metadata": {},
   "outputs": [
    {
     "name": "stdout",
     "output_type": "stream",
     "text": [
      "90 55\n",
      "528 404\n"
     ]
    }
   ],
   "source": [
    "#Run this............................\n",
    "cap=cv2.VideoCapture(0)\n",
    "flag=False\n",
    "while(1):\n",
    "    a,frame=cap.read()\n",
    "    cv2.imshow(\"f\",frame)\n",
    "    if((cv2.waitKey(1)&0xff)==99):\n",
    "        img=frame\n",
    "        flag=True\n",
    "        break\n",
    "    elif(cv2.waitKey(1)&0xff==27):\n",
    "        break\n",
    "cap.release()\n",
    "cv2.destroyAllWindows()\n",
    "if(flag==True):\n",
    "    cut(img)"
   ]
  },
  {
   "cell_type": "code",
   "execution_count": 5,
   "metadata": {},
   "outputs": [],
   "source": [
    "def click(event,x,y,flags,param):\n",
    "    global x0,y0,x3,y3\n",
    "    if(event==cv2.EVENT_LBUTTONDOWN):\n",
    "        x0=x\n",
    "        y0=y\n",
    "        print(x,y)\n",
    "    if(event==cv2.EVENT_LBUTTONUP):\n",
    "        x3=x\n",
    "        y3=y\n",
    "        cv2.rectangle(img1,(x0,y0),(x3,y3),(255,0,0),6)\n",
    "        print(x,y)\n",
    "def cut(img):\n",
    "    global img1\n",
    "    img1=img.copy()\n",
    "    while(True):\n",
    "        cv2.imshow(\"crop\",img1)\n",
    "        if((cv2.waitKey(1)&0xff)==ord('r')):          #press 'r' to reset\n",
    "            img1=img.copy()\n",
    "        if((cv2.waitKey(1)&0xff)==ord('s')):          #press 's' to save captured image\n",
    "            cv2.imwrite(\"C:\\\\Users\\\\hp\\\\Desktop\\\\crop1.png\",img[y0:y3,x0:x3])\n",
    "        if((cv2.waitKey(1)&0xff)==27):                \n",
    "            break\n",
    "        cv2.setMouseCallback(\"crop\",click)\n",
    "    cv2.destroyAllWindows()"
   ]
  }
 ],
 "metadata": {
  "kernelspec": {
   "display_name": "Python 3",
   "language": "python",
   "name": "python3"
  },
  "language_info": {
   "codemirror_mode": {
    "name": "ipython",
    "version": 3
   },
   "file_extension": ".py",
   "mimetype": "text/x-python",
   "name": "python",
   "nbconvert_exporter": "python",
   "pygments_lexer": "ipython3",
   "version": "3.7.4"
  }
 },
 "nbformat": 4,
 "nbformat_minor": 2
}
